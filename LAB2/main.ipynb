{
 "nbformat": 4,
 "nbformat_minor": 0,
 "metadata": {
  "colab": {
   "provenance": []
  },
  "kernelspec": {
   "name": "python3",
   "language": "python",
   "display_name": "Python 3 (ipykernel)"
  },
  "language_info": {
   "name": "python"
  }
 },
 "cells": [
  {
   "cell_type": "markdown",
   "source": [
    "Warning:\n",
    "\n",
    "After each exercise from now on, do a git commit and write in a message what you did."
   ],
   "metadata": {
    "id": "vWgiVDOhNaoM"
   }
  },
  {
   "cell_type": "markdown",
   "source": [
    "3.\n",
    "Write a Python program that takes input from the user to create a list of integers and then performs the following operations:\n",
    "\n",
    "  a. Input: Ask the user to enter a series of space-separated integers.\n",
    "\n",
    "  b. Convert Input: Convert the input string into a list of integers.\n",
    "  \n",
    "  c. Sorting: Sort the list in ascending order.\n",
    "\n",
    "  example:\n",
    "  ```\n",
    "  Enter a series of space-separated integers: 5 2 8 1 9\n",
    "\n",
    "  Sorted list: [1, 2, 5, 8, 9]\n",
    "  ```\n"
   ],
   "metadata": {
    "id": "PspxMdWBgq0E"
   }
  },
  {
   "cell_type": "code",
   "source": [],
   "metadata": {
    "id": "AI_-8VGKh7rA",
    "ExecuteTime": {
     "end_time": "2024-03-17T15:38:32.646503Z",
     "start_time": "2024-03-17T15:38:27.494363Z"
    }
   },
   "execution_count": 1,
   "outputs": [
    {
     "name": "stdout",
     "output_type": "stream",
     "text": [
      "Sorted list: [1, 2, 3]\n"
     ]
    }
   ]
  },
  {
   "cell_type": "markdown",
   "source": [
    "-----------------------------------------------------------------------------\n",
    "\n",
    "Difference between Lists and Tuples:\n",
    "\n",
    "Lists are mutable, meaning their elements can be changed after creation, while tuples are immutable, meaning their elements cannot be changed after creation.\n",
    "Lists are represented by square brackets [ ], whereas tuples are represented by parentheses ( ).\n",
    "Lists have methods like append(), insert(), and remove() to modify the list, while tuples do not support such methods due to their immutability.\n",
    "Lists are typically used when the elements need to be modified or updated frequently, while tuples are used when the data is meant to be constant or unchangeable.\n",
    "\n",
    "-----------------------------------------------------------------------------\n"
   ],
   "metadata": {
    "id": "i3SZ_u9yl9aa"
   }
  },
  {
   "cell_type": "markdown",
   "source": [
    "4.\n",
    "Extend the previous Python program to include tuples. Now, in addition to creating a list of integers from user input, the program should also create a tuple of those integers and perform the following operations:\n",
    "\n",
    "  a. Input: Ask the user to enter a series of space-separated integers.\n",
    "\n",
    "  b. Convert Input: Convert the input string into a list of integers and a tuple of integers.\n",
    "\n",
    "  c. Sorting: Sort both the list and the tuple in ascending order.\n",
    "\n",
    "  d. Print Output: Print the sorted list and tuple.\n",
    "\n",
    "  example:\n",
    "  ```\n",
    "  Enter a series of space-separated integers: 5 2 8 1 9\n",
    "  \n",
    "  Sorted list: [1, 2, 5, 8, 9]\n",
    "  Sorted tuple: (1, 2, 5, 8, 9)\n",
    "  ```\n"
   ],
   "metadata": {
    "id": "s3dGdHFnmHGE"
   }
  },
  {
   "cell_type": "code",
   "source": [],
   "metadata": {
    "id": "5hm5uHjjl-wZ",
    "ExecuteTime": {
     "end_time": "2024-03-17T15:41:23.176661Z",
     "start_time": "2024-03-17T15:41:19.665198Z"
    }
   },
   "execution_count": 2,
   "outputs": [
    {
     "name": "stdout",
     "output_type": "stream",
     "text": [
      "Sorted list: [1, 2, 3]\n",
      "Sorted tuple: (1, 2, 3)\n"
     ]
    }
   ]
  },
  {
   "cell_type": "markdown",
   "source": [
    "5.\n",
    "Extend the previous Python program to demonstrate the manipulation of lists using the append(), insert(), and remove() functions, and to emphasize the immutability of tuples.\n",
    "\n",
    "  a. Input: Ask the user to enter a series of space-separated integers.\n",
    "\n",
    "  b. Convert Input: Convert the input string into a list of integers and a tuple of integers.\n",
    "  \n",
    "  c. Manipulate List: Use the append(), insert(), and remove() functions to modify the list.\n",
    "  \n",
    "  d. Attempt to Modify Tuple: Try to modify the tuple using the same operations as the list.\n",
    "  \n",
    "  e. Print Output: Print the modified list and attempt to print the modified tuple.\n",
    "\n",
    "  example:\n",
    "  ```\n",
    "  Enter a series of space-separated integers: 5 2 8 1 9\n",
    "\n",
    "  Tuples are immutable and cannot be modified.\n",
    "  Modified list: [5, 2, 20, 1, 9, 10]\n",
    "  Tuple remains unchanged: (5, 2, 8, 1, 9)\n",
    "  ```"
   ],
   "metadata": {
    "id": "ys8cK-cdqIk7"
   }
  },
  {
   "cell_type": "code",
   "source": [],
   "metadata": {
    "id": "u8ATNzGWqT0H",
    "ExecuteTime": {
     "end_time": "2024-03-17T15:48:23.193877Z",
     "start_time": "2024-03-17T15:48:19.680852Z"
    }
   },
   "execution_count": 4,
   "outputs": [
    {
     "name": "stdout",
     "output_type": "stream",
     "text": [
      "Tuples are immutable and cannot be modified.\n",
      "Modified list: [5, 2, 20, 1, 9, 10]\n",
      "Tuple remains unchanged: (5, 2, 8, 1, 9)\n"
     ]
    }
   ]
  },
  {
   "cell_type": "markdown",
   "source": [
    "--------------------------------------------------------------------------------\n",
    "1. **Set**:\n",
    "A set in Python is a collection of unique elements that are unordered. This means that you cannot access elements by indices, and the elements are stored in an unordered manner. The main feature of a set is that each element in the set must be unique. Sets are useful when you want to perform set operations, such as mathematical set operations (e.g., union, difference, intersection).\n",
    "\n",
    "Example of creating a set:\n",
    "```python\n",
    "set = {1, 2, 3, 4, 5}  # Creating a set\n",
    "print(set)  # Displaying the set\n",
    "```\n",
    "\n",
    "2. **Dictionary**:\n",
    "A dictionary in Python is a collection of key-value pairs, where each key is unique. Dictionaries are unique in the sense that they allow us to associate specific values with specific keys, making it easy to retrieve values by referring to their corresponding keys. Dictionaries are very useful when you want to store data in the form of key-value pairs, such as dictionary definitions, test scores, survey results, etc.\n",
    "\n",
    "Example of creating a dictionary:\n",
    "```python\n",
    "dictionary = {\"key1\": \"value1\", \"key2\": \"value2\", \"key3\": \"value3\"}  # Creating a dictionary\n",
    "print(dictionary)  # Displaying the dictionary\n",
    "```\n",
    "It's important to remember that both in sets and dictionaries, keys (in the case of dictionaries) and elements (in the case of sets) must be hashable, meaning they must be immutable (e.g., numbers, strings, tuples), and they must have a defined hashing method.\n",
    "\n",
    "--------------------------------------------------------------------------------"
   ],
   "metadata": {
    "id": "IMGqb8VoxwOv"
   }
  },
  {
   "cell_type": "markdown",
   "source": [
    "6.\n",
    "Additionally, introduce sets and dictionaries and perform basic operations on them.\n",
    "\n",
    "  a. ...\n",
    "\n",
    "  b. ...\n",
    "\n",
    "  c. ...\n",
    "\n",
    "  d. ...\n",
    "\n",
    "  e. Set Operations: Perform union, intersection, and difference operations on the set.\n",
    "\n",
    "  f. Dictionary Operations: Print the dictionary, add a new key-value pair, and delete an existing key-value pair.\n",
    "\n",
    "  g. Print Output: Print the modified list, unchanged tuple, set operations results, and updated dictionary.\n",
    "\n",
    "  example:\n",
    "  ```\n",
    "  Enter a series of space-separated integers: 5 2 8 1 9\n",
    "\n",
    "  Tuples are immutable and cannot be modified.\n",
    "  Original Dictionary: {5: 25, 2: 4, 8: 64, 1: 1, 9: 81}\n",
    "  Modified list: [5, 2, 20, 1, 9, 10]\n",
    "  Tuple remains unchanged: (5, 2, 8, 1, 9)\n",
    "  Union of set: {1, 2, 5, 9, 10, 11, 12}\n",
    "  Intersection of set: {8, 5}\n",
    "  Difference of set: {9}\n",
    "  Updated Dictionary: {5: 25, 2: 4, 1: 1, 9: 81, 11: 121}\n",
    "\n",
    "  ```\n",
    "\n"
   ],
   "metadata": {
    "id": "PD4Fhykxx1w6"
   }
  },
  {
   "cell_type": "code",
   "source": [],
   "metadata": {
    "id": "AwRmtngJzAZI",
    "ExecuteTime": {
     "end_time": "2024-03-17T15:51:35.923827Z",
     "start_time": "2024-03-17T15:51:33.146981Z"
    }
   },
   "execution_count": 5,
   "outputs": [
    {
     "name": "stdout",
     "output_type": "stream",
     "text": [
      "Tuples are immutable and cannot be modified.\n",
      "Original Dictionary: {5: 25, 2: 4, 20: 400, 1: 1, 9: 81, 10: 100}\n",
      "Modified list: [5, 2, 20, 1, 9, 10]\n",
      "Tuple remains unchanged: (5, 2, 20, 1, 9, 10)\n",
      "Union of set: {1, 2, 5, 9, 10, 11, 12, 20}\n",
      "Intersection of set: {10}\n",
      "Difference of set: {1, 2, 5, 9, 20}\n",
      "Updated Dictionary: {5: 25, 2: 4, 20: 400, 1: 1, 9: 81, 10: 100, 11: 121}\n"
     ]
    }
   ]
  },
  {
   "cell_type": "markdown",
   "source": [
    "7. **Built-in Types and Type Conversion**\n",
    "\n",
    "  Extend the previous Python program to demonstrate the use of built-in types and type conversion. Perform the following operations:\n",
    "\n",
    "  a. ...\n",
    "\n",
    "  b. ...\n",
    "\n",
    "  c. ...\n",
    "\n",
    "  d. ...\n",
    "\n",
    "  e. ...\n",
    "\n",
    "  f. ...\n",
    "\n",
    "  g. Type Conversion: Convert the list to a tuple, set, and dictionary. Convert the tuple to a list, set, and dictionary. Convert the set to a list, tuple, and dictionary. Convert the dictionary to a list, tuple, and set.\n",
    "\n",
    "  h. Print Output: Print the results of the type conversion operations.\n",
    "\n",
    "  example:\n",
    "  ```\n",
    "  Enter a series of space-separated integers: 5 2 8 1 9\n",
    "\n",
    "  Tuples are immutable and cannot be modified.\n",
    "  Original Dictionary: {5: 25, 2: 4, 8: 64, 1: 1, 9: 81}\n",
    "  List to Tuple: (5, 2, 20, 1, 9, 10)\n",
    "  List to Set: {1, 2, 5, 9, 10, 20}\n",
    "  List to Dictionary: {5: 25, 2: 4, 20: 400, 1: 1, 9: 81, 10: 100}\n",
    "  Tuple to List: [5, 2, 8, 1, 9]\n",
    "  Tuple to Set: {1, 2, 5, 8, 9}\n",
    "  Tuple to Dictionary: {5: 25, 2: 4, 8: 64, 1: 1, 9: 81}\n",
    "  Set to List: [1, 2, 5, 9, 10, 20]\n",
    "  Set to Tuple: (1, 2, 5, 9, 10, 20)\n",
    "  Set to Dictionary: {1: 1, 2: 4, 5: 25, 9: 81, 10: 100, 20: 400}\n",
    "  Dictionary to List: [5, 2, 20, 1, 9, 10, 11]\n",
    "  Dictionary to Tuple: (5, 2, 20, 1, 9, 10, 11)\n",
    "  Dictionary to Set: {1, 2, 5, 9, 10, 11, 20}\n",
    "```"
   ],
   "metadata": {
    "id": "N0xlv8oD2aXa"
   }
  },
  {
   "cell_type": "code",
   "source": [],
   "metadata": {
    "id": "-NzD4x_n31Rv",
    "ExecuteTime": {
     "end_time": "2024-03-17T16:02:38.388644Z",
     "start_time": "2024-03-17T16:02:36.090128Z"
    }
   },
   "execution_count": 13,
   "outputs": [
    {
     "name": "stdout",
     "output_type": "stream",
     "text": [
      "Tuples are immutable and cannot be modified.\n",
      "Original Dictionary: {5: 25, 2: 4, 20: 400, 1: 1, 9: 81, 10: 100}\n",
      "List to Tuple: (5, 2, 20, 1, 9, 10)\n",
      "List to Set: {1, 2, 5, 9, 10, 20}\n",
      "List to Dictionary: {5: 25, 2: 4, 20: 400, 1: 1, 9: 81, 10: 100}\n",
      "Tuple to List: [5, 2, 20, 1, 9, 10]\n",
      "Tuple to Set: {1, 2, 5, 9, 10, 20}\n",
      "Tuple to Dictionary: {5: 25, 2: 4, 20: 400, 1: 1, 9: 81, 10: 100}\n",
      "Set to List: [1, 2, 5, 9, 10, 20]\n",
      "Set to Tuple: (1, 2, 5, 9, 10, 20)\n",
      "Set to Dictionary: {1: 1, 2: 4, 5: 25, 9: 81, 10: 100, 20: 400}\n",
      "Dictionary to List: [5, 2, 20, 1, 9, 10, 11]\n",
      "Dictionary to Tuple: (5, 2, 20, 1, 9, 10, 11)\n",
      "Dictionary to Set: {1, 2, 5, 9, 10, 11, 20}\n"
     ]
    }
   ]
  },
  {
   "cell_type": "markdown",
   "source": [
    "8.\n",
    "Extend the previous Python program to write the output to a file and perform operations on that file.\n",
    "\n",
    "  a. ...\n",
    "\n",
    "  b. ...\n",
    "\n",
    "  c. ...\n",
    "\n",
    "  d. ...\n",
    "\n",
    "  e. ...\n",
    "\n",
    "  f. ...\n",
    "\n",
    "  g. ...\n",
    "\n",
    "  h. Write Output to File: Write all the results (original inputs, modified data structures, type conversion results) to a file.\n",
    "\n",
    "  i. Perform Operations on File: Open the file, read its content, and perform some operations like counting the number of lines, finding specific data, etc.\n",
    "\n",
    "  j. Modify File Content: Modify the content of the file by, for example, changing specific lines or adding new lines."
   ],
   "metadata": {
    "id": "KVn_MxPh6gNz"
   }
  },
  {
   "cell_type": "code",
   "source": [
    "# Input\n",
    "input_numbers = input(\"Enter a series of space-separated integers: \")\n",
    "\n",
    "# Convert Input to List\n",
    "numbers_list = [int(num) for num in input_numbers.split()]\n",
    "\n",
    "# Manipulate List\n",
    "numbers_list.append(10)  # Append 10 to the list\n",
    "numbers_list.insert(2, 20)  # Insert 20 at index 2\n",
    "if 8 in numbers_list:\n",
    "    numbers_list.remove(8)  # Remove the element 8 if it exists\n",
    "\n",
    "# Attempt to Modify Tuple (this will raise an error)\n",
    "numbers_tuple = tuple(numbers_list)\n",
    "try:\n",
    "    numbers_tuple.append(10)  # Attempt to append to tuple\n",
    "except AttributeError:\n",
    "    print(\"Tuples are immutable and cannot be modified.\")\n",
    "\n",
    "# Set Operations\n",
    "numbers_set = set(numbers_list)\n",
    "other_set = {10, 11, 12}\n",
    "set_union = numbers_set.union(other_set)  # Union of sets\n",
    "set_intersection = numbers_set.intersection(other_set)  # Intersection of sets\n",
    "set_difference = numbers_set.difference(other_set)  # Difference of sets\n",
    "\n",
    "# Dictionary Operations\n",
    "numbers_dict = {num: num ** 2 for num in numbers_list}  # Creating dictionary\n",
    "\n",
    "# Type Conversion\n",
    "list_to_tuple = tuple(numbers_list)\n",
    "list_to_set = set(numbers_list)\n",
    "list_to_dict = {num: num ** 2 for num in numbers_list}\n",
    "tuple_to_list = list(numbers_tuple)\n",
    "tuple_to_set = set(numbers_tuple)\n",
    "tuple_to_dict = {num: num ** 2 for num in numbers_tuple}\n",
    "set_to_list = list(numbers_set)\n",
    "set_to_tuple = tuple(numbers_set)\n",
    "set_to_dict = {num: num ** 2 for num in numbers_set}\n",
    "dict_to_list = list(numbers_dict.keys())\n",
    "dict_to_tuple = tuple(numbers_dict.keys())\n",
    "dict_to_set = set(numbers_dict.keys())\n",
    "\n",
    "# Write Output to File\n",
    "with open(\"output.txt\", \"w\") as file:\n",
    "    file.write(\"Original List: \" + str(numbers_list) + \"\\n\")\n",
    "    file.write(\"Original Tuple: \" + str(numbers_tuple) + \"\\n\")\n",
    "    file.write(\"Original Set: \" + str(numbers_set) + \"\\n\")\n",
    "    file.write(\"Original Dictionary: \" + str(numbers_dict) + \"\\n\\n\")\n",
    "\n",
    "    file.write(\"Manipulated List: \" + str(numbers_list) + \"\\n\")\n",
    "    file.write(\"Manipulated Tuple: \" + str(numbers_tuple) + \"\\n\")\n",
    "    file.write(\"Union of Set: \" + str(set_union) + \"\\n\")\n",
    "    file.write(\"Intersection of Set: \" + str(set_intersection) + \"\\n\")\n",
    "    file.write(\"Difference of Set: \" + str(set_difference) + \"\\n\")\n",
    "    file.write(\"Updated Dictionary: \" + str(numbers_dict) + \"\\n\\n\")\n",
    "\n",
    "    file.write(\"List to Tuple: \" + str(list_to_tuple) + \"\\n\")\n",
    "    file.write(\"List to Set: \" + str(list_to_set) + \"\\n\")\n",
    "    file.write(\"List to Dictionary: \" + str(list_to_dict) + \"\\n\")\n",
    "    file.write(\"Tuple to List: \" + str(tuple_to_list) + \"\\n\")\n",
    "    file.write(\"Tuple to Set: \" + str(tuple_to_set) + \"\\n\")\n",
    "    file.write(\"Tuple to Dictionary: \" + str(tuple_to_dict) + \"\\n\")\n",
    "    file.write(\"Set to List: \" + str(set_to_list) + \"\\n\")\n",
    "    file.write(\"Set to Tuple: \" + str(set_to_tuple) + \"\\n\")\n",
    "    file.write(\"Set to Dictionary: \" + str(set_to_dict) + \"\\n\")\n",
    "    file.write(\"Dictionary to List: \" + str(dict_to_list) + \"\\n\")\n",
    "    file.write(\"Dictionary to Tuple: \" + str(dict_to_tuple) + \"\\n\")\n",
    "    file.write(\"Dictionary to Set: \" + str(dict_to_set) + \"\\n\")\n",
    "\n",
    "# Perform Operations on File\n",
    "with open(\"output.txt\", \"r\") as file:\n",
    "    lines = file.readlines()\n",
    "    num_lines = len(lines)\n",
    "    num_integers = sum(line.count(\" \") for line in lines)\n",
    "    sum_integers = sum(int(num) for line in lines for num in line.split() if num.isdigit())\n",
    "\n",
    "print(\"Number of lines in the file:\", num_lines)\n",
    "print(\"Number of integers in the file:\", num_integers)\n",
    "print(\"Sum of integers in the file:\", sum_integers)\n"
   ],
   "metadata": {
    "id": "d54la3il7LNS",
    "ExecuteTime": {
     "end_time": "2024-03-17T16:03:37.907127Z",
     "start_time": "2024-03-17T16:03:34.817850Z"
    }
   },
   "execution_count": 15,
   "outputs": [
    {
     "name": "stdout",
     "output_type": "stream",
     "text": [
      "Tuples are immutable and cannot be modified.\n",
      "Number of lines in the file: 24\n",
      "Number of integers in the file: 195\n",
      "Sum of integers in the file: 0\n"
     ]
    }
   ]
  },
  {
   "cell_type": "markdown",
   "source": [
    "--------------------------------------------------------------------------------\n",
    "**Control Statements:**\n",
    "Control statements are used in programming to alter the flow of execution based on certain conditions or criteria. In Python, commonly used control statements include:\n",
    "\n",
    "`if, elif, else:` These statements are used for conditional execution. They allow the program to execute different blocks of code based on specified conditions.\n",
    "\n",
    "`for loop:` Used for iterating over a sequence (such as lists, tuples, strings, etc.) or any iterable object. It allows you to execute a block of code repeatedly for each item in the sequence.\n",
    "\n",
    "`while loop:` Used for executing a block of code repeatedly as long as a specified condition is true. It keeps iterating until the condition becomes false.\n",
    "\n",
    "\n",
    "**Loops:**\n",
    "Loops are used for executing a block of code repeatedly. In Python, there are two main types of loops:\n",
    "\n",
    "`for loop: `As mentioned earlier, the for loop iterates over a sequence or any iterable object.\n",
    "\n",
    "`while loop:` This loop executes a block of code as long as a specified condition is true. It continues iterating until the condition becomes false.\n",
    "\n",
    "**Other Statements:**\n",
    "This category typically includes other types of statements that don't fall directly under control statements or loops. It can include various types of statements used for different purposes in Python programming, such as:\n",
    "\n",
    "`Assignment statements:` Assigning values to variables.\n",
    "\n",
    "`Function calls:` Invoking functions to perform specific tasks.\n",
    "\n",
    "`Import statements:` Importing modules or packages to use their functionality in the current script or program.\n",
    "\n",
    "`Exception handling statements: `Statements used for handling exceptions (errors) that may occur during the execution of a program, such as try, except, finally, etc.\n",
    "\n",
    "`With statements: `Used for resource management, especially for working with files, to ensure that certain resources are properly closed or released after use.\n",
    "\n",
    "These are fundamental constructs in Python programming that enable you to control the flow of your program, repeat tasks efficiently, and execute various types of statements to achieve desired functionality.\n",
    "\n",
    "-------------------------------------------------------------------------------"
   ],
   "metadata": {
    "id": "kDx3mxAgD2L7"
   }
  },
  {
   "cell_type": "markdown",
   "source": [
    "9.  Utilizing the Largest Integer from output.txt\n",
    "\n",
    "  Task Description:\n",
    "\n",
    "  Transform the previous task to utilize the largest integer from the output file 'output.txt' instead of asking the user for it.\n",
    "\n",
    "  1. Read the largest integer from the 'output.txt' file.\n",
    "  2. Generate a list of all prime numbers up to the largest integer.\n",
    "  3. Print the list of prime numbers.\n",
    "  4. Calculate the sum of all prime numbers in the list.\n",
    "  5. Determine the largest and smallest prime numbers in the list.\n",
    "  6. Check if the largest integer itself is prime and print the result.\n",
    "  7. Write the list of prime numbers along with the sum, largest, and smallest prime numbers to a file 'prime_numbers.txt'.\n",
    "  8. Handle the scenario where the largest integer cannot be found in the file.\n",
    "\n",
    "  Example:\n",
    "\n",
    "  If the 'output.txt' file contains:\n",
    "  Largest prime number: 20\n",
    "\n",
    "  The program will generate the list of prime numbers up to 20, perform calculations, and write the results to 'prime_numbers.txt'.\n"
   ],
   "metadata": {
    "id": "pWC3IYevHysh"
   }
  },
  {
   "cell_type": "code",
   "source": [
    "def is_prime(num):\n",
    "    if num <= 1:\n",
    "        return False\n",
    "    for i in range(2, int(num ** 0.5) + 1):\n",
    "        if num % i == 0:\n",
    "            return False\n",
    "    return True\n",
    "\n",
    "def find_largest_integer(filename):\n",
    "    try:\n",
    "        with open(filename, 'r') as file:\n",
    "            for line in file:\n",
    "                if 'Largest prime number:' in line:\n",
    "                    return int(line.split(':')[-1].strip())\n",
    "    except FileNotFoundError:\n",
    "        print(\"File not found.\")\n",
    "        return None\n",
    "    except ValueError:\n",
    "        print(\"Unable to find the largest integer in the file.\")\n",
    "        return None\n",
    "\n",
    "def generate_prime_numbers(n):\n",
    "    primes = []\n",
    "    for num in range(2, n + 1):\n",
    "        if is_prime(num):\n",
    "            primes.append(num)\n",
    "    return primes\n",
    "\n",
    "def write_prime_numbers_to_file(primes, filename):\n",
    "    with open(filename, 'w') as file:\n",
    "        file.write(\"List of prime numbers: \" + str(primes) + \"\\n\")\n",
    "        file.write(\"Sum of prime numbers: \" + str(sum(primes)) + \"\\n\")\n",
    "        file.write(\"Largest prime number: \" + str(max(primes)) + \"\\n\")\n",
    "        file.write(\"Smallest prime number: \" + str(min(primes)) + \"\\n\")\n",
    "\n",
    "# Step 1: Read the largest integer from the 'output.txt' file.\n",
    "largest_integer = find_largest_integer('output.txt')\n",
    "\n",
    "if largest_integer is not None:\n",
    "    # Step 2: Generate a list of all prime numbers up to the largest integer.\n",
    "    prime_numbers = generate_prime_numbers(largest_integer)\n",
    "\n",
    "    # Step 3: Print the list of prime numbers.\n",
    "    print(\"List of prime numbers:\", prime_numbers)\n",
    "\n",
    "    # Step 4: Calculate the sum of all prime numbers in the list.\n",
    "    sum_prime_numbers = sum(prime_numbers)\n",
    "    print(\"Sum of prime numbers:\", sum_prime_numbers)\n",
    "\n",
    "    # Step 5: Determine the largest and smallest prime numbers in the list.\n",
    "    largest_prime = max(prime_numbers)\n",
    "    smallest_prime = min(prime_numbers)\n",
    "    print(\"Largest prime number:\", largest_prime)\n",
    "    print(\"Smallest prime number:\", smallest_prime)\n",
    "\n",
    "    # Step 6: Check if the largest integer itself is prime and print the result.\n",
    "    if is_prime(largest_integer):\n",
    "        print(f\"{largest_integer} is a prime number.\")\n",
    "    else:\n",
    "        print(f\"{largest_integer} is not a prime number.\")\n",
    "\n",
    "    # Step 7: Write the list of prime numbers along with the sum, largest, and smallest prime numbers to a file 'prime_numbers.txt'.\n",
    "    write_prime_numbers_to_file(prime_numbers, 'prime_numbers.txt')\n"
   ],
   "metadata": {
    "id": "-Lz65OTiM7ds",
    "ExecuteTime": {
     "end_time": "2024-03-17T16:05:13.128554Z",
     "start_time": "2024-03-17T16:05:13.117232Z"
    }
   },
   "execution_count": 17,
   "outputs": [
    {
     "name": "stdout",
     "output_type": "stream",
     "text": [
      "List of prime numbers: [2, 3, 5, 7, 11, 13, 17, 19]\n",
      "Sum of prime numbers: 77\n",
      "Largest prime number: 19\n",
      "Smallest prime number: 2\n",
      "20 is not a prime number.\n"
     ]
    }
   ]
  },
  {
   "cell_type": "markdown",
   "source": [
    "10.\n",
    "In the final main.ipynb file, leave the results from task 8 and 9, commit and push"
   ],
   "metadata": {
    "id": "V5bxEjZFNCAA"
   }
  },
  {
   "cell_type": "code",
   "outputs": [],
   "source": [],
   "metadata": {
    "collapsed": false
   }
  }
 ]
}
